{
 "cells": [
  {
   "cell_type": "code",
   "execution_count": 1,
   "metadata": {},
   "outputs": [
    {
     "name": "stderr",
     "output_type": "stream",
     "text": [
      "/usr/local/lib/python3.6/dist-packages/h5py/__init__.py:36: FutureWarning: Conversion of the second argument of issubdtype from `float` to `np.floating` is deprecated. In future, it will be treated as `np.float64 == np.dtype(float).type`.\n",
      "  from ._conv import register_converters as _register_converters\n",
      "Using TensorFlow backend.\n"
     ]
    }
   ],
   "source": [
    "import itertools\n",
    "\n",
    "import numpy as np\n",
    "import keras\n",
    "from keras.applications.resnet50 import ResNet50\n",
    "from keras.preprocessing.image import ImageDataGenerator\n",
    "from keras import backend as K\n",
    "import matplotlib.pyplot as plt\n",
    "from sklearn.metrics import confusion_matrix"
   ]
  },
  {
   "cell_type": "code",
   "execution_count": 2,
   "metadata": {},
   "outputs": [],
   "source": [
    "batch_size = 32\n",
    "num_classes = 2\n",
    "epochs = 50\n",
    "img_rows, img_cols = 256, 256"
   ]
  },
  {
   "cell_type": "code",
   "execution_count": 3,
   "metadata": {},
   "outputs": [],
   "source": [
    "# the data, shuffled and split between train and test sets\n",
    "npz = np.load('data/data.npz')\n",
    "x_train = npz['x_train']\n",
    "y_train = npz['y_train']\n",
    "x_test = npz['x_test']\n",
    "y_test = npz['y_test']\n",
    "x_train = x_train[:,:,:,0:3]\n",
    "x_test = x_test[:,:,:,0:3]"
   ]
  },
  {
   "cell_type": "code",
   "execution_count": 4,
   "metadata": {},
   "outputs": [
    {
     "name": "stdout",
     "output_type": "stream",
     "text": [
      "x_train shape: (1696, 256, 256, 3)\n",
      "1696 train samples\n",
      "425 test samples\n"
     ]
    }
   ],
   "source": [
    "if K.image_data_format() == 'channels_first':\n",
    "    x_train = x_train.reshape(x_train.shape[0], 3, img_rows, img_cols)\n",
    "    x_test = x_test.reshape(x_test.shape[0], 3, img_rows, img_cols)\n",
    "    input_shape = (3, img_rows, img_cols)\n",
    "else:\n",
    "    x_train = x_train.reshape(x_train.shape[0], img_rows, img_cols, 3)\n",
    "    x_test = x_test.reshape(x_test.shape[0], img_rows, img_cols, 3)\n",
    "    input_shape = (img_rows, img_cols, 3)\n",
    "\n",
    "x_train = x_train.astype('float32')\n",
    "x_test = x_test.astype('float32')\n",
    "\n",
    "print('x_train shape:', x_train.shape)\n",
    "print(x_train.shape[0], 'train samples')\n",
    "print(x_test.shape[0], 'test samples')"
   ]
  },
  {
   "cell_type": "code",
   "execution_count": 5,
   "metadata": {},
   "outputs": [],
   "source": [
    "# weight classes to account for differences in class frequencies\n",
    "non_background = np.sum(y_train, axis=0)[1]\n",
    "class_weight = {\n",
    "    0: 1,\n",
    "    1: (y_train.shape[0] - non_background) / non_background\n",
    "}"
   ]
  },
  {
   "cell_type": "code",
   "execution_count": 6,
   "metadata": {},
   "outputs": [],
   "source": [
    "# normalize the images\n",
    "x_train /= 255\n",
    "x_test /= 255\n",
    "\n",
    "img_mean = np.mean(x_train, axis=(0, 1, 2))\n",
    "img_std = np.std(x_train, axis=(0, 1, 2))\n",
    "x_train -= img_mean\n",
    "x_train /= img_std\n",
    "\n",
    "x_test -= img_mean\n",
    "x_test /= img_std\n"
   ]
  },
  {
   "cell_type": "code",
   "execution_count": 7,
   "metadata": {},
   "outputs": [],
   "source": [
    "model = ResNet50(weights=None,\n",
    "                 input_shape=input_shape,\n",
    "                 classes=num_classes)\n",
    "\n",
    "model.compile(loss=keras.losses.categorical_crossentropy,\n",
    "              optimizer=keras.optimizers.Adam(lr = 1e-4),\n",
    "              metrics=['accuracy'])\n",
    "\n",
    "\n",
    "datagen = ImageDataGenerator(\n",
    "    rotation_range=180,  # randomly rotate images in the range (degrees, 0 to 180)\n",
    "    horizontal_flip=True,  # randomly flip images\n",
    "    vertical_flip=False\n",
    ")"
   ]
  },
  {
   "cell_type": "code",
   "execution_count": 8,
   "metadata": {},
   "outputs": [
    {
     "name": "stdout",
     "output_type": "stream",
     "text": [
      "Epoch 1/50\n",
      "53/53 [==============================] - 66s 1s/step - loss: 0.5306 - acc: 0.6722 - val_loss: 1.0586 - val_acc: 0.6682\n",
      "Epoch 2/50\n",
      "53/53 [==============================] - 47s 892ms/step - loss: 0.4115 - acc: 0.7270 - val_loss: 1.5405 - val_acc: 0.6424\n",
      "Epoch 3/50\n",
      "53/53 [==============================] - 47s 891ms/step - loss: 0.3624 - acc: 0.7482 - val_loss: 1.8492 - val_acc: 0.6824\n",
      "Epoch 4/50\n",
      "53/53 [==============================] - 47s 891ms/step - loss: 0.3521 - acc: 0.7594 - val_loss: 1.7304 - val_acc: 0.5435\n",
      "Epoch 5/50\n",
      "53/53 [==============================] - 47s 892ms/step - loss: 0.3465 - acc: 0.7512 - val_loss: 0.8637 - val_acc: 0.7741\n",
      "Epoch 6/50\n",
      "53/53 [==============================] - 47s 894ms/step - loss: 0.3096 - acc: 0.7777 - val_loss: 1.0790 - val_acc: 0.7365\n",
      "Epoch 7/50\n",
      "53/53 [==============================] - 47s 892ms/step - loss: 0.4549 - acc: 0.7400 - val_loss: 0.8983 - val_acc: 0.7694\n",
      "Epoch 8/50\n",
      "53/53 [==============================] - 47s 896ms/step - loss: 0.3194 - acc: 0.7771 - val_loss: 0.7686 - val_acc: 0.7388\n",
      "Epoch 9/50\n",
      "53/53 [==============================] - 47s 894ms/step - loss: 0.2919 - acc: 0.7925 - val_loss: 0.5921 - val_acc: 0.7741\n",
      "Epoch 10/50\n",
      "53/53 [==============================] - 47s 891ms/step - loss: 0.3286 - acc: 0.7630 - val_loss: 1.3578 - val_acc: 0.7012\n",
      "Epoch 11/50\n",
      "53/53 [==============================] - 47s 892ms/step - loss: 0.3146 - acc: 0.7754 - val_loss: 0.9475 - val_acc: 0.7129\n",
      "Epoch 12/50\n",
      "53/53 [==============================] - 47s 892ms/step - loss: 0.2845 - acc: 0.7812 - val_loss: 0.5018 - val_acc: 0.7882\n",
      "Epoch 13/50\n",
      "53/53 [==============================] - 47s 891ms/step - loss: 0.2952 - acc: 0.7754 - val_loss: 0.5148 - val_acc: 0.7576\n",
      "Epoch 14/50\n",
      "53/53 [==============================] - 47s 894ms/step - loss: 0.2808 - acc: 0.7871 - val_loss: 0.5569 - val_acc: 0.7318\n",
      "Epoch 15/50\n",
      "53/53 [==============================] - 47s 892ms/step - loss: 0.2843 - acc: 0.8072 - val_loss: 0.6132 - val_acc: 0.7388\n",
      "Epoch 16/50\n",
      "53/53 [==============================] - 47s 893ms/step - loss: 0.2700 - acc: 0.8013 - val_loss: 1.1562 - val_acc: 0.7459\n",
      "Epoch 17/50\n",
      "53/53 [==============================] - 47s 892ms/step - loss: 0.2915 - acc: 0.7765 - val_loss: 1.2808 - val_acc: 0.7459\n",
      "Epoch 18/50\n",
      "53/53 [==============================] - 47s 892ms/step - loss: 0.2647 - acc: 0.8090 - val_loss: 1.0513 - val_acc: 0.7153\n",
      "Epoch 19/50\n",
      "53/53 [==============================] - 47s 891ms/step - loss: 0.2716 - acc: 0.8013 - val_loss: 0.5341 - val_acc: 0.7694\n",
      "Epoch 20/50\n",
      "53/53 [==============================] - 47s 893ms/step - loss: 0.2725 - acc: 0.7889 - val_loss: 0.9302 - val_acc: 0.7035\n",
      "Epoch 21/50\n",
      "53/53 [==============================] - 47s 893ms/step - loss: 0.2655 - acc: 0.8007 - val_loss: 0.7145 - val_acc: 0.7859\n",
      "Epoch 22/50\n",
      "53/53 [==============================] - 47s 893ms/step - loss: 0.2844 - acc: 0.7871 - val_loss: 1.8252 - val_acc: 0.7153\n",
      "Epoch 23/50\n",
      "53/53 [==============================] - 47s 891ms/step - loss: 0.2599 - acc: 0.8125 - val_loss: 0.7189 - val_acc: 0.7600\n",
      "Epoch 24/50\n",
      "53/53 [==============================] - 47s 893ms/step - loss: 0.2687 - acc: 0.8048 - val_loss: 0.8612 - val_acc: 0.7718\n",
      "Epoch 25/50\n",
      "53/53 [==============================] - 47s 892ms/step - loss: 0.2741 - acc: 0.7948 - val_loss: 1.2300 - val_acc: 0.7671\n",
      "Epoch 26/50\n",
      "53/53 [==============================] - 47s 891ms/step - loss: 0.2587 - acc: 0.8096 - val_loss: 0.7981 - val_acc: 0.7741\n",
      "Epoch 27/50\n",
      "53/53 [==============================] - 47s 892ms/step - loss: 0.2569 - acc: 0.7978 - val_loss: 0.6890 - val_acc: 0.8188\n",
      "Epoch 28/50\n",
      "53/53 [==============================] - 47s 893ms/step - loss: 0.2637 - acc: 0.8078 - val_loss: 0.8365 - val_acc: 0.7953\n",
      "Epoch 29/50\n",
      "53/53 [==============================] - 47s 891ms/step - loss: 0.2566 - acc: 0.8019 - val_loss: 1.1793 - val_acc: 0.7176\n",
      "Epoch 30/50\n",
      "53/53 [==============================] - 47s 894ms/step - loss: 0.2626 - acc: 0.8113 - val_loss: 0.8602 - val_acc: 0.7506\n",
      "Epoch 31/50\n",
      "53/53 [==============================] - 47s 892ms/step - loss: 0.2572 - acc: 0.7972 - val_loss: 0.5090 - val_acc: 0.7671\n",
      "Epoch 32/50\n",
      "53/53 [==============================] - 47s 892ms/step - loss: 0.2570 - acc: 0.8113 - val_loss: 0.4896 - val_acc: 0.7953\n",
      "Epoch 33/50\n",
      "53/53 [==============================] - 47s 892ms/step - loss: 0.2623 - acc: 0.8131 - val_loss: 0.5175 - val_acc: 0.7694\n",
      "Epoch 34/50\n",
      "53/53 [==============================] - 47s 893ms/step - loss: 0.2549 - acc: 0.8202 - val_loss: 0.9490 - val_acc: 0.7624\n",
      "Epoch 35/50\n",
      "53/53 [==============================] - 47s 894ms/step - loss: 0.2638 - acc: 0.7925 - val_loss: 0.4269 - val_acc: 0.7929\n",
      "Epoch 36/50\n",
      "53/53 [==============================] - 47s 892ms/step - loss: 0.2445 - acc: 0.8160 - val_loss: 0.5619 - val_acc: 0.8094\n",
      "Epoch 37/50\n",
      "53/53 [==============================] - 47s 892ms/step - loss: 0.2442 - acc: 0.8225 - val_loss: 0.8267 - val_acc: 0.7812\n",
      "Epoch 38/50\n",
      "53/53 [==============================] - 47s 891ms/step - loss: 0.2443 - acc: 0.8154 - val_loss: 0.8283 - val_acc: 0.7200\n",
      "Epoch 39/50\n",
      "53/53 [==============================] - 47s 892ms/step - loss: 0.2516 - acc: 0.8172 - val_loss: 0.4266 - val_acc: 0.8447\n",
      "Epoch 40/50\n",
      "53/53 [==============================] - 47s 894ms/step - loss: 0.2438 - acc: 0.8196 - val_loss: 0.4064 - val_acc: 0.8353\n",
      "Epoch 41/50\n",
      "53/53 [==============================] - 47s 891ms/step - loss: 0.2608 - acc: 0.8078 - val_loss: 0.4728 - val_acc: 0.8188\n",
      "Epoch 42/50\n",
      "53/53 [==============================] - 47s 895ms/step - loss: 0.2547 - acc: 0.8090 - val_loss: 0.6127 - val_acc: 0.6800\n",
      "Epoch 43/50\n",
      "53/53 [==============================] - 47s 891ms/step - loss: 0.2394 - acc: 0.8225 - val_loss: 0.5110 - val_acc: 0.8165\n",
      "Epoch 44/50\n",
      "53/53 [==============================] - 47s 893ms/step - loss: 0.2427 - acc: 0.8290 - val_loss: 0.6036 - val_acc: 0.7671\n",
      "Epoch 45/50\n",
      "53/53 [==============================] - 47s 892ms/step - loss: 0.2448 - acc: 0.8060 - val_loss: 0.7017 - val_acc: 0.8071\n",
      "Epoch 46/50\n",
      "53/53 [==============================] - 47s 895ms/step - loss: 0.2527 - acc: 0.8213 - val_loss: 0.4823 - val_acc: 0.7882\n",
      "Epoch 47/50\n",
      "53/53 [==============================] - 47s 891ms/step - loss: 0.2423 - acc: 0.8272 - val_loss: 0.8090 - val_acc: 0.7200\n",
      "Epoch 48/50\n",
      "53/53 [==============================] - 47s 893ms/step - loss: 0.2407 - acc: 0.8243 - val_loss: 0.6139 - val_acc: 0.7882\n",
      "Epoch 49/50\n",
      "53/53 [==============================] - 47s 892ms/step - loss: 0.2339 - acc: 0.8308 - val_loss: 0.3918 - val_acc: 0.8212\n",
      "Epoch 50/50\n",
      "53/53 [==============================] - 47s 893ms/step - loss: 0.2456 - acc: 0.8172 - val_loss: 0.3759 - val_acc: 0.8376\n",
      "Test loss: 0.3758544010975782\n",
      "Test accuracy: 0.8376470589637757\n"
     ]
    }
   ],
   "source": [
    "# Fit the model on the batches generated by datagen.flow().\n",
    "model.fit_generator(datagen.flow(x_train, y_train, batch_size=batch_size),\n",
    "                    steps_per_epoch=int(x_train.shape[0] / batch_size),\n",
    "                    epochs=epochs,\n",
    "                    validation_data=(x_test, y_test),\n",
    "                    verbose=1,\n",
    "                    class_weight=class_weight,\n",
    "                    workers=4)\n",
    "\n",
    "score = model.evaluate(x_test, y_test, verbose=0)\n",
    "print('Test loss:', score[0])\n",
    "print('Test accuracy:', score[1])\n",
    "model.save('model.h5')"
   ]
  },
  {
   "cell_type": "code",
   "execution_count": 9,
   "metadata": {},
   "outputs": [],
   "source": [
    "def plot_confusion_matrix(cm, classes,\n",
    "                          normalize=False,\n",
    "                          title='Confusion matrix',\n",
    "                          cmap=plt.cm.Blues):\n",
    "    \"\"\"\n",
    "    This function prints and plots the confusion matrix.\n",
    "    Normalization can be applied by setting `normalize=True`.\n",
    "    \"\"\"\n",
    "    if normalize:\n",
    "        cm = cm.astype('float') / cm.sum(axis=1)[:, np.newaxis]\n",
    "        print(\"Normalized confusion matrix\")\n",
    "    else:\n",
    "        print('Confusion matrix, without normalization')\n",
    "\n",
    "    plt.imshow(cm, interpolation='nearest', cmap=cmap)\n",
    "    plt.title(title)\n",
    "    plt.colorbar()\n",
    "    tick_marks = np.arange(len(classes))\n",
    "    plt.xticks(tick_marks, classes, rotation=45)\n",
    "    plt.yticks(tick_marks, classes)\n",
    "\n",
    "    fmt = '.2f' if normalize else 'd'\n",
    "    thresh = cm.max() / 2.\n",
    "    for i, j in itertools.product(range(cm.shape[0]), range(cm.shape[1])):\n",
    "        plt.text(j, i, format(cm[i, j], fmt),\n",
    "                 horizontalalignment=\"center\",\n",
    "                 color=\"white\" if cm[i, j] > thresh else \"black\")\n",
    "\n",
    "    plt.ylabel('True label')\n",
    "    plt.xlabel('Predicted label')\n",
    "    plt.tight_layout()"
   ]
  },
  {
   "cell_type": "code",
   "execution_count": 10,
   "metadata": {},
   "outputs": [
    {
     "name": "stdout",
     "output_type": "stream",
     "text": [
      "Confusion matrix, without normalization\n"
     ]
    },
    {
     "data": {
      "image/png": "[encoded data removed]",
      "text/plain": [
       "<Figure size 432x288 with 2 Axes>"
      ]
     },
     "metadata": {},
     "output_type": "display_data"
    }
   ],
   "source": [
    "predictions = np.argmax(model.predict(x_test), axis=1)\n",
    "y_test_pred = np.argmax(y_test, axis=1)\n",
    "cnf_matrix = confusion_matrix(y_test_pred, predictions)\n",
    "plot_confusion_matrix(cnf_matrix, ['background', 'built-up'])"
   ]
  },
  {
   "cell_type": "code",
   "execution_count": null,
   "metadata": {},
   "outputs": [],
   "source": []
  }
 ],
 "metadata": {
  "kernelspec": {
   "display_name": "Python 3",
   "language": "python",
   "name": "python3"
  },
  "language_info": {
   "codemirror_mode": {
    "name": "ipython",
    "version": 3
   },
   "file_extension": ".py",
   "mimetype": "text/x-python",
   "name": "python",
   "nbconvert_exporter": "python",
   "pygments_lexer": "ipython3",
   "version": "3.6.3"
  }
 },
 "nbformat": 4,
 "nbformat_minor": 2
}
